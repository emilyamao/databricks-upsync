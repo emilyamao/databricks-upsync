{
  "metadata": {
    "language_info": {
      "codemirror_mode": {
        "name": "python",
        "version": 3
      },
      "file_extension": ".py",
      "mimetype": "text/x-python",
      "name": "python",
      "nbconvert_exporter": "python",
      "pygments_lexer": "ipython3",
      "version": "3.8"
    },
    "kernelspec": {
      "name": "python",
      "display_name": "Python (Pyodide)",
      "language": "python"
    }
  },
  "nbformat_minor": 4,
  "nbformat": 4,
  "cells": [
    {
      "cell_type": "markdown",
      "source": "# Hello Bitches",
      "metadata": {}
    },
    {
      "cell_type": "code",
      "source": "import pandas as pd",
      "metadata": {
        "trusted": true
      },
      "execution_count": null,
      "outputs": []
    },
    {
      "cell_type": "code",
      "source": "spreadsheet = pd.read_csv('netflix1.csv')",
      "metadata": {
        "trusted": true
      },
      "execution_count": 5,
      "outputs": []
    },
    {
      "cell_type": "code",
      "source": "spreadsheet.head()",
      "metadata": {
        "trusted": true
      },
      "execution_count": 6,
      "outputs": [
        {
          "execution_count": 6,
          "output_type": "execute_result",
          "data": {
            "text/plain": "                                                                              G  \\\ns7667 TV Show One Strange Rock    Not Given United States  2/2/2019 2018  TV-PG   \ns7672 TV Show Operation Gold Rush Not Given United Kingdom 2/1/2019 2016  TV-14   \ns7675 TV Show Operation Ouch!     Not Given United Kingdom 8/1/2020 2012  TV-PG   \ns7676 TV Show Operation Proposal  Not Given South Korea    7/1/2016 2012  TV-PG   \ns7686 Movie   Our Shining Days    Not Given China          7/1/2018 2017  TV-PG   \n\n                                                                            87 min  \\\ns7667 TV Show One Strange Rock    Not Given United States  2/2/2019 2018  1 Season   \ns7672 TV Show Operation Gold Rush Not Given United Kingdom 2/1/2019 2016  1 Season   \ns7675 TV Show Operation Ouch!     Not Given United Kingdom 8/1/2020 2012  1 Season   \ns7676 TV Show Operation Proposal  Not Given South Korea    7/1/2016 2012  1 Season   \ns7686 Movie   Our Shining Days    Not Given China          7/1/2018 2017   103 min   \n\n                                                                         Documentaries, International Movies, Music & Musicals  \ns7667 TV Show One Strange Rock    Not Given United States  2/2/2019 2018                    Docuseries, Science & Nature TV     \ns7672 TV Show Operation Gold Rush Not Given United Kingdom 2/1/2019 2016                       British TV Shows, Reality TV     \ns7675 TV Show Operation Ouch!     Not Given United Kingdom 8/1/2020 2012            British TV Shows, Kids' TV, TV Comedies     \ns7676 TV Show Operation Proposal  Not Given South Korea    7/1/2016 2012  International TV Shows, Korean TV Shows, Roman...     \ns7686 Movie   Our Shining Days    Not Given China          7/1/2018 2017             Comedies, Dramas, International Movies     ",
            "text/html": "<div>\n<style scoped>\n    .dataframe tbody tr th:only-of-type {\n        vertical-align: middle;\n    }\n\n    .dataframe tbody tr th {\n        vertical-align: top;\n    }\n\n    .dataframe thead th {\n        text-align: right;\n    }\n</style>\n<table border=\"1\" class=\"dataframe\">\n  <thead>\n    <tr style=\"text-align: right;\">\n      <th></th>\n      <th></th>\n      <th></th>\n      <th></th>\n      <th></th>\n      <th></th>\n      <th></th>\n      <th>G</th>\n      <th>87 min</th>\n      <th>Documentaries, International Movies, Music &amp; Musicals</th>\n    </tr>\n  </thead>\n  <tbody>\n    <tr>\n      <th>s7667</th>\n      <th>TV Show</th>\n      <th>One Strange Rock</th>\n      <th>Not Given</th>\n      <th>United States</th>\n      <th>2/2/2019</th>\n      <th>2018</th>\n      <td>TV-PG</td>\n      <td>1 Season</td>\n      <td>Docuseries, Science &amp; Nature TV</td>\n    </tr>\n    <tr>\n      <th>s7672</th>\n      <th>TV Show</th>\n      <th>Operation Gold Rush</th>\n      <th>Not Given</th>\n      <th>United Kingdom</th>\n      <th>2/1/2019</th>\n      <th>2016</th>\n      <td>TV-14</td>\n      <td>1 Season</td>\n      <td>British TV Shows, Reality TV</td>\n    </tr>\n    <tr>\n      <th>s7675</th>\n      <th>TV Show</th>\n      <th>Operation Ouch!</th>\n      <th>Not Given</th>\n      <th>United Kingdom</th>\n      <th>8/1/2020</th>\n      <th>2012</th>\n      <td>TV-PG</td>\n      <td>1 Season</td>\n      <td>British TV Shows, Kids' TV, TV Comedies</td>\n    </tr>\n    <tr>\n      <th>s7676</th>\n      <th>TV Show</th>\n      <th>Operation Proposal</th>\n      <th>Not Given</th>\n      <th>South Korea</th>\n      <th>7/1/2016</th>\n      <th>2012</th>\n      <td>TV-PG</td>\n      <td>1 Season</td>\n      <td>International TV Shows, Korean TV Shows, Roman...</td>\n    </tr>\n    <tr>\n      <th>s7686</th>\n      <th>Movie</th>\n      <th>Our Shining Days</th>\n      <th>Not Given</th>\n      <th>China</th>\n      <th>7/1/2018</th>\n      <th>2017</th>\n      <td>TV-PG</td>\n      <td>103 min</td>\n      <td>Comedies, Dramas, International Movies</td>\n    </tr>\n  </tbody>\n</table>\n</div>"
          },
          "metadata": {}
        }
      ]
    },
    {
      "cell_type": "code",
      "source": "",
      "metadata": {},
      "execution_count": null,
      "outputs": []
    }
  ]
}